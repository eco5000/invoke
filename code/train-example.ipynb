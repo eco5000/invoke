{
 "cells": [
  {
   "cell_type": "code",
   "execution_count": null,
   "id": "181c87e6-cd1c-4c0e-be8b-e0ff89c80c80",
   "metadata": {
    "scrolled": true
   },
   "outputs": [],
   "source": [
    "!cd $HOME/invoke-training && $HOME/invoketraining/bin/invoke-train -c src/invoke_training/sample_configs/sdxl_textual_inversion_gnome_1x24gb.yaml"
   ]
  },
  {
   "cell_type": "code",
   "execution_count": null,
   "id": "5b4d555b-7763-451b-aa71-0532e00c9ea0",
   "metadata": {},
   "outputs": [],
   "source": [
    "!cp $INVOKE_TRAINING_OUTPUT_DIR/sdxl_ti_bruce_the_gnome/1702587511.2273068/checkpoint_epoch-00000500.safetensors ${INVOKEAI_ROOT}/autoimport/embedding/bruce_the_gnome.safetensors"
   ]
  },
  {
   "cell_type": "code",
   "execution_count": null,
   "id": "eaaa5933-1f3f-4581-beb4-3f8749a3c86f",
   "metadata": {},
   "outputs": [],
   "source": []
  }
 ],
 "metadata": {
  "kernelspec": {
   "display_name": "Python 3 (ipykernel)",
   "language": "python",
   "name": "python3"
  },
  "language_info": {
   "codemirror_mode": {
    "name": "ipython",
    "version": 3
   },
   "file_extension": ".py",
   "mimetype": "text/x-python",
   "name": "python",
   "nbconvert_exporter": "python",
   "pygments_lexer": "ipython3",
   "version": "3.10.12"
  }
 },
 "nbformat": 4,
 "nbformat_minor": 5
}
